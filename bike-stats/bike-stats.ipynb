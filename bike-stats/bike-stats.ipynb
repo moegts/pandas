{
 "cells": [
  {
   "cell_type": "markdown",
   "metadata": {},
   "source": [
    "# Data Analysis with Pandas\n",
    "\n",
    "## Bicycle Trip Data from Seattle’s Cycle Share System\n",
    "\n",
    "> Mohammad Ali Khalil\n",
    "\n",
    "- 15/11/2021"
   ]
  },
  {
   "cell_type": "code",
   "execution_count": null,
   "metadata": {},
   "outputs": [],
   "source": []
  }
 ],
 "metadata": {
  "language_info": {
   "name": "python"
  },
  "orig_nbformat": 4
 },
 "nbformat": 4,
 "nbformat_minor": 2
}
